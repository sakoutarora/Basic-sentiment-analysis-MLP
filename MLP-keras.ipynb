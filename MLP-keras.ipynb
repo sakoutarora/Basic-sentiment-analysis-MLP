{
 "cells": [
  {
   "cell_type": "code",
   "execution_count": 42,
   "id": "a700ce1c",
   "metadata": {},
   "outputs": [],
   "source": [
    "from keras.datasets import imdb\n",
    "import numpy as np"
   ]
  },
  {
   "cell_type": "markdown",
   "id": "bd28bbbf",
   "metadata": {},
   "source": [
    "# DATA PREP"
   ]
  },
  {
   "cell_type": "code",
   "execution_count": 43,
   "id": "1e2f48c2",
   "metadata": {},
   "outputs": [],
   "source": [
    "( (XT,YT), (xt,yt) )  = imdb.load_data(num_words = 10000)"
   ]
  },
  {
   "cell_type": "code",
   "execution_count": 44,
   "id": "8d08a27e",
   "metadata": {},
   "outputs": [],
   "source": [
    "wrds = imdb.get_word_index()"
   ]
  },
  {
   "cell_type": "code",
   "execution_count": 45,
   "id": "731a4119",
   "metadata": {},
   "outputs": [
    {
     "name": "stdout",
     "output_type": "stream",
     "text": [
      "88584\n"
     ]
    }
   ],
   "source": [
    "print ( len( wrds.items() )  ) "
   ]
  },
  {
   "cell_type": "code",
   "execution_count": 46,
   "id": "b8e92180",
   "metadata": {},
   "outputs": [],
   "source": [
    "valtword = dict( [val,key] for key,val in wrds.items() )"
   ]
  },
  {
   "cell_type": "code",
   "execution_count": 47,
   "id": "f578b7b5",
   "metadata": {},
   "outputs": [
    {
     "data": {
      "text/plain": [
       "\"# when i rented this movie i had very low expectations but when i saw it i realized that the movie was less a lot less than what i expected the actors were bad the doctor's wife was one of the worst the story was so stupid it could work for a disney movie except for the murders but this one is not a comedy it is a laughable masterpiece of stupidity the title is well chosen except for one thing they could add stupid movie after dead husbands i give it 0 and a half out of 5\""
      ]
     },
     "execution_count": 47,
     "metadata": {},
     "output_type": "execute_result"
    }
   ],
   "source": [
    "actual_rev = ' '.join([valtword.get(idx-3,'#') for idx in XT[np.random.randint(100)]])\n",
    "actual_rev"
   ]
  },
  {
   "cell_type": "code",
   "execution_count": 48,
   "id": "9320c0a8",
   "metadata": {},
   "outputs": [],
   "source": [
    "def vectorise (sentences,dims = 10000):\n",
    "    m = len(sentences)\n",
    "    print(m)\n",
    "    vec = np.zeros((m,dims))\n",
    "    for i in range(m):\n",
    "        vec[ i, np.array(sentences[i]) ] = 1\n",
    "    return vec\n",
    "        "
   ]
  },
  {
   "cell_type": "code",
   "execution_count": 49,
   "id": "018ee9aa",
   "metadata": {},
   "outputs": [
    {
     "name": "stdout",
     "output_type": "stream",
     "text": [
      "25000\n",
      "25000\n"
     ]
    }
   ],
   "source": [
    "xtrain = vectorise(XT)\n",
    "xtest = vectorise(xt)"
   ]
  },
  {
   "cell_type": "code",
   "execution_count": 50,
   "id": "048af180",
   "metadata": {},
   "outputs": [],
   "source": [
    "ytrain = np.asarray(YT).astype('float')\n",
    "ytest = np.asarray(yt).astype('float')"
   ]
  },
  {
   "cell_type": "code",
   "execution_count": 51,
   "id": "4c9dc70c",
   "metadata": {},
   "outputs": [],
   "source": [
    "from keras import models\n",
    "from keras.layers import Dense"
   ]
  },
  {
   "cell_type": "code",
   "execution_count": 70,
   "id": "8d2ad982",
   "metadata": {},
   "outputs": [],
   "source": [
    "mdl = models.Sequential()"
   ]
  },
  {
   "cell_type": "markdown",
   "id": "feee51d8",
   "metadata": {},
   "source": [
    "Defining the model"
   ]
  },
  {
   "cell_type": "code",
   "execution_count": 71,
   "id": "b104da72",
   "metadata": {},
   "outputs": [],
   "source": [
    "mdl.add(Dense(16,activation='relu',input_shape = (10000,)))\n",
    "mdl.add(Dense(16,activation='relu'))\n",
    "mdl.add(Dense(1,activation= 'sigmoid'))"
   ]
  },
  {
   "cell_type": "markdown",
   "id": "87e16cad",
   "metadata": {},
   "source": [
    "compliting the model"
   ]
  },
  {
   "cell_type": "code",
   "execution_count": 72,
   "id": "fadf82a6",
   "metadata": {},
   "outputs": [],
   "source": [
    "mdl.compile(optimizer='rmsprop',loss = 'binary_crossentropy', metrics = ['accuracy'])"
   ]
  },
  {
   "cell_type": "code",
   "execution_count": 73,
   "id": "23b461ec",
   "metadata": {},
   "outputs": [
    {
     "name": "stdout",
     "output_type": "stream",
     "text": [
      "Model: \"sequential_2\"\n",
      "_________________________________________________________________\n",
      " Layer (type)                Output Shape              Param #   \n",
      "=================================================================\n",
      " dense_6 (Dense)             (None, 16)                160016    \n",
      "                                                                 \n",
      " dense_7 (Dense)             (None, 16)                272       \n",
      "                                                                 \n",
      " dense_8 (Dense)             (None, 1)                 17        \n",
      "                                                                 \n",
      "=================================================================\n",
      "Total params: 160,305\n",
      "Trainable params: 160,305\n",
      "Non-trainable params: 0\n",
      "_________________________________________________________________\n"
     ]
    }
   ],
   "source": [
    "mdl.summary()"
   ]
  },
  {
   "cell_type": "code",
   "execution_count": 74,
   "id": "c6f6180f",
   "metadata": {},
   "outputs": [],
   "source": [
    "xcv = xtrain[:5000]\n",
    "ycv = ytrain[:5000]\n",
    "\n",
    "xtrain_new = xtrain[5000:]\n",
    "ytrain_new = ytrain[5000:]\n"
   ]
  },
  {
   "cell_type": "code",
   "execution_count": 75,
   "id": "59efc729",
   "metadata": {},
   "outputs": [
    {
     "name": "stdout",
     "output_type": "stream",
     "text": [
      "Epoch 1/20\n",
      "79/79 [==============================] - 3s 23ms/step - loss: 0.4213 - accuracy: 0.8415 - val_loss: 0.3111 - val_accuracy: 0.8772\n",
      "Epoch 2/20\n",
      "79/79 [==============================] - 1s 14ms/step - loss: 0.2301 - accuracy: 0.9164 - val_loss: 0.2846 - val_accuracy: 0.8862\n",
      "Epoch 3/20\n",
      "79/79 [==============================] - 1s 13ms/step - loss: 0.1763 - accuracy: 0.9374 - val_loss: 0.2819 - val_accuracy: 0.8880\n",
      "Epoch 4/20\n",
      "79/79 [==============================] - 1s 15ms/step - loss: 0.1448 - accuracy: 0.9481 - val_loss: 0.2954 - val_accuracy: 0.8880\n",
      "Epoch 5/20\n",
      "79/79 [==============================] - 1s 16ms/step - loss: 0.1208 - accuracy: 0.9582 - val_loss: 0.3288 - val_accuracy: 0.8800\n",
      "Epoch 6/20\n",
      "79/79 [==============================] - 1s 15ms/step - loss: 0.0995 - accuracy: 0.9650 - val_loss: 0.3466 - val_accuracy: 0.8828\n",
      "Epoch 7/20\n",
      "79/79 [==============================] - 1s 14ms/step - loss: 0.0837 - accuracy: 0.9726 - val_loss: 0.3887 - val_accuracy: 0.8800\n",
      "Epoch 8/20\n",
      "79/79 [==============================] - 1s 13ms/step - loss: 0.0703 - accuracy: 0.9772 - val_loss: 0.4537 - val_accuracy: 0.8720\n",
      "Epoch 9/20\n",
      "79/79 [==============================] - 1s 12ms/step - loss: 0.0582 - accuracy: 0.9808 - val_loss: 0.4661 - val_accuracy: 0.8738\n",
      "Epoch 10/20\n",
      "79/79 [==============================] - 1s 13ms/step - loss: 0.0486 - accuracy: 0.9854 - val_loss: 0.5253 - val_accuracy: 0.8700\n",
      "Epoch 11/20\n",
      "79/79 [==============================] - 1s 15ms/step - loss: 0.0383 - accuracy: 0.9879 - val_loss: 0.5477 - val_accuracy: 0.8696\n",
      "Epoch 12/20\n",
      "79/79 [==============================] - 1s 15ms/step - loss: 0.0305 - accuracy: 0.9909 - val_loss: 0.6649 - val_accuracy: 0.8632\n",
      "Epoch 13/20\n",
      "79/79 [==============================] - 1s 14ms/step - loss: 0.0244 - accuracy: 0.9930 - val_loss: 0.6783 - val_accuracy: 0.8626\n",
      "Epoch 14/20\n",
      "79/79 [==============================] - 1s 14ms/step - loss: 0.0176 - accuracy: 0.9951 - val_loss: 0.7414 - val_accuracy: 0.8634\n",
      "Epoch 15/20\n",
      "79/79 [==============================] - 1s 14ms/step - loss: 0.0134 - accuracy: 0.9965 - val_loss: 0.7965 - val_accuracy: 0.8624\n",
      "Epoch 16/20\n",
      "79/79 [==============================] - 1s 15ms/step - loss: 0.0100 - accuracy: 0.9972 - val_loss: 0.8694 - val_accuracy: 0.8564\n",
      "Epoch 17/20\n",
      "79/79 [==============================] - 1s 13ms/step - loss: 0.0067 - accuracy: 0.9984 - val_loss: 0.9395 - val_accuracy: 0.8600\n",
      "Epoch 18/20\n",
      "79/79 [==============================] - 1s 17ms/step - loss: 0.0050 - accuracy: 0.9989 - val_loss: 1.0760 - val_accuracy: 0.8536\n",
      "Epoch 19/20\n",
      "79/79 [==============================] - 1s 16ms/step - loss: 0.0040 - accuracy: 0.9991 - val_loss: 1.0835 - val_accuracy: 0.8610\n",
      "Epoch 20/20\n",
      "79/79 [==============================] - 2s 22ms/step - loss: 0.0027 - accuracy: 0.9995 - val_loss: 1.1577 - val_accuracy: 0.8594\n"
     ]
    }
   ],
   "source": [
    "hist = mdl.fit(xtrain_new,ytrain_new,epochs=20,batch_size = 256,validation_data = (xcv,ycv) )"
   ]
  },
  {
   "cell_type": "code",
   "execution_count": 76,
   "id": "deeaa9d4",
   "metadata": {},
   "outputs": [],
   "source": [
    "h = hist.history"
   ]
  },
  {
   "cell_type": "code",
   "execution_count": 77,
   "id": "f7dbd1cc",
   "metadata": {},
   "outputs": [],
   "source": [
    "import matplotlib.pyplot as plt"
   ]
  },
  {
   "cell_type": "code",
   "execution_count": 78,
   "id": "1b968942",
   "metadata": {},
   "outputs": [
    {
     "data": {
      "image/png": "[encoded data removed]",
      "text/plain": [
       "<Figure size 576x396 with 1 Axes>"
      ]
     },
     "metadata": {},
     "output_type": "display_data"
    }
   ],
   "source": [
    "plt.style.use('seaborn')\n",
    "plt.plot(h['loss'],label = 'train loss')\n",
    "plt.plot(h['val_loss'],label = 'validation loss')\n",
    "plt.xlabel('epochs')\n",
    "plt.ylabel('loss')\n",
    "plt.legend()\n",
    "plt.show()"
   ]
  },
  {
   "cell_type": "code",
   "execution_count": 80,
   "id": "31e00c25",
   "metadata": {},
   "outputs": [
    {
     "name": "stdout",
     "output_type": "stream",
     "text": [
      "782/782 [==============================] - 4s 4ms/step - loss: 1.3203 - accuracy: 0.8376\n"
     ]
    },
    {
     "data": {
      "text/plain": [
       "0.8375599980354309"
      ]
     },
     "execution_count": 80,
     "metadata": {},
     "output_type": "execute_result"
    }
   ],
   "source": [
    "mdl.evaluate(xtest,ytest)[1]"
   ]
  },
  {
   "cell_type": "code",
   "execution_count": 81,
   "id": "35765642",
   "metadata": {},
   "outputs": [
    {
     "name": "stdout",
     "output_type": "stream",
     "text": [
      "782/782 [==============================] - 4s 5ms/step - loss: 0.2322 - accuracy: 0.9719\n"
     ]
    },
    {
     "data": {
      "text/plain": [
       "0.9718800187110901"
      ]
     },
     "execution_count": 81,
     "metadata": {},
     "output_type": "execute_result"
    }
   ],
   "source": [
    "mdl.evaluate(xtrain,ytrain)[1]"
   ]
  },
  {
   "cell_type": "code",
   "execution_count": 84,
   "id": "e8df3c52",
   "metadata": {},
   "outputs": [
    {
     "data": {
      "image/png": "[encoded data removed]",
      "text/plain": [
       "<Figure size 576x396 with 1 Axes>"
      ]
     },
     "metadata": {},
     "output_type": "display_data"
    }
   ],
   "source": [
    "plt.style.use('seaborn')\n",
    "plt.plot(h['accuracy'],label = 'train acc')\n",
    "plt.plot(h['val_accuracy'],label = 'validation acc')\n",
    "plt.xlabel('epochs')\n",
    "plt.ylabel('loss')\n",
    "plt.legend()\n",
    "plt.show()"
   ]
  },
  {
   "cell_type": "markdown",
   "id": "ab185290",
   "metadata": {},
   "source": [
    "After running till 4 epochs"
   ]
  },
  {
   "cell_type": "code",
   "execution_count": 85,
   "id": "5ab2c344",
   "metadata": {},
   "outputs": [
    {
     "name": "stdout",
     "output_type": "stream",
     "text": [
      "Epoch 1/4\n",
      "79/79 [==============================] - 2s 29ms/step - loss: 0.0015 - accuracy: 0.9998 - val_loss: 1.2190 - val_accuracy: 0.8576\n",
      "Epoch 2/4\n",
      "79/79 [==============================] - 1s 13ms/step - loss: 0.0018 - accuracy: 0.9997 - val_loss: 1.2839 - val_accuracy: 0.8590\n",
      "Epoch 3/4\n",
      "79/79 [==============================] - 1s 13ms/step - loss: 0.0011 - accuracy: 0.9998 - val_loss: 1.3689 - val_accuracy: 0.8582\n",
      "Epoch 4/4\n",
      "79/79 [==============================] - 1s 13ms/step - loss: 6.6691e-04 - accuracy: 0.9999 - val_loss: 1.4262 - val_accuracy: 0.8570\n"
     ]
    }
   ],
   "source": [
    "hist = mdl.fit(xtrain_new,ytrain_new,epochs=4,batch_size = 256,validation_data = (xcv,ycv) )"
   ]
  },
  {
   "cell_type": "code",
   "execution_count": 88,
   "id": "55d52bed",
   "metadata": {},
   "outputs": [],
   "source": [
    "h = hist.history"
   ]
  },
  {
   "cell_type": "code",
   "execution_count": 89,
   "id": "46a9c3b5",
   "metadata": {},
   "outputs": [
    {
     "data": {
      "image/png": "[encoded data removed]",
      "text/plain": [
       "<Figure size 576x396 with 1 Axes>"
      ]
     },
     "metadata": {},
     "output_type": "display_data"
    }
   ],
   "source": [
    "plt.style.use('seaborn')\n",
    "plt.plot(h['loss'],label = 'train loss')\n",
    "plt.plot(h['val_loss'],label = 'validation loss')\n",
    "plt.xlabel('epochs')\n",
    "plt.ylabel('loss')\n",
    "plt.legend()\n",
    "plt.show()"
   ]
  },
  {
   "cell_type": "code",
   "execution_count": 90,
   "id": "cb0b8ace",
   "metadata": {},
   "outputs": [
    {
     "name": "stdout",
     "output_type": "stream",
     "text": [
      "782/782 [==============================] - 2s 3ms/step - loss: 1.6135 - accuracy: 0.8365\n"
     ]
    },
    {
     "data": {
      "text/plain": [
       "0.8364800214767456"
      ]
     },
     "execution_count": 90,
     "metadata": {},
     "output_type": "execute_result"
    }
   ],
   "source": [
    "mdl.evaluate(xtest,ytest)[1]"
   ]
  },
  {
   "cell_type": "code",
   "execution_count": 91,
   "id": "2bd84e14",
   "metadata": {},
   "outputs": [
    {
     "name": "stdout",
     "output_type": "stream",
     "text": [
      "157/157 [==============================] - 0s 2ms/step - loss: 1.4262 - accuracy: 0.8570\n"
     ]
    },
    {
     "data": {
      "text/plain": [
       "0.8569999933242798"
      ]
     },
     "execution_count": 91,
     "metadata": {},
     "output_type": "execute_result"
    }
   ],
   "source": [
    "mdl.evaluate(xcv,ycv)[1]"
   ]
  },
  {
   "cell_type": "code",
   "execution_count": 92,
   "id": "23ac848b",
   "metadata": {},
   "outputs": [
    {
     "name": "stdout",
     "output_type": "stream",
     "text": [
      "782/782 [==============================] - 4s 5ms/step - loss: 0.2853 - accuracy: 0.9714\n"
     ]
    },
    {
     "data": {
      "text/plain": [
       "0.9714000225067139"
      ]
     },
     "execution_count": 92,
     "metadata": {},
     "output_type": "execute_result"
    }
   ],
   "source": [
    "mdl.evaluate(xtrain,ytrain)[1]"
   ]
  },
  {
   "cell_type": "code",
   "execution_count": 93,
   "id": "5ab2cb3f",
   "metadata": {},
   "outputs": [
    {
     "data": {
      "image/png": "[encoded data removed]",
      "text/plain": [
       "<Figure size 576x396 with 1 Axes>"
      ]
     },
     "metadata": {},
     "output_type": "display_data"
    }
   ],
   "source": [
    "plt.style.use('seaborn')\n",
    "plt.plot(h['accuracy'],label = 'train acc')\n",
    "plt.plot(h['val_accuracy'],label = 'validation acc')\n",
    "plt.xlabel('epochs')\n",
    "plt.ylabel('loss')\n",
    "plt.legend()\n",
    "plt.show()"
   ]
  },
  {
   "cell_type": "code",
   "execution_count": null,
   "id": "683be605",
   "metadata": {},
   "outputs": [],
   "source": []
  }
 ],
 "metadata": {
  "kernelspec": {
   "display_name": "Python 3 (ipykernel)",
   "language": "python",
   "name": "python3"
  },
  "language_info": {
   "codemirror_mode": {
    "name": "ipython",
    "version": 3
   },
   "file_extension": ".py",
   "mimetype": "text/x-python",
   "name": "python",
   "nbconvert_exporter": "python",
   "pygments_lexer": "ipython3",
   "version": "3.9.9"
  }
 },
 "nbformat": 4,
 "nbformat_minor": 5
}
